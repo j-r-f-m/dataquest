{
 "cells": [
  {
   "cell_type": "markdown",
   "metadata": {},
   "source": [
    "# Analyzing Mobile App Data\n",
    "The goal is to analyze data to help understand what type off apps are likely to attract more users  \n",
    "Used datasets:  \n",
    "Apple https://www.kaggle.com/datasets/ramamet4/app-store-apple-data-set-10k-apps  \n",
    "Google https://www.kaggle.com/datasets/lava18/google-play-store-apps\n"
   ]
  },
  {
   "cell_type": "code",
   "execution_count": 1,
   "metadata": {},
   "outputs": [],
   "source": [
    "# define functions\n",
    "\n",
    "\n",
    "def open_dataset(file_name, header=True):   \n",
    "    \"\"\"Opens a CSV file and returns its contents as a list of lists.\n",
    "    Args:\n",
    "        file_name (str): The name of the file to open.\n",
    "        header (bool, optional): Indicates whether the file contains a header row. Defaults to True.\n",
    "    Returns:\n",
    "        list: A list of lists where each inner list represents a row in the CSV file.\"\"\"\n",
    "    # open file -> io.TextIOWrapper\n",
    "    opened_file = open(file_name, encoding=\"utf8\")\n",
    "    # read file\n",
    "    from csv import reader\n",
    "    # create csv.reader object\n",
    "    read_file = reader(opened_file)\n",
    "    # convert data into list of list\n",
    "    data = list(read_file)\n",
    "    return data\n",
    "\n",
    "\n",
    "def explore_data(dataset, start, end, rows_and_columns=False):\n",
    "    dataset_slice = dataset[start:end]    \n",
    "    for row in dataset_slice:\n",
    "        print(row)\n",
    "        print('\\n') # adds a new (empty) line after each row\n",
    "\n",
    "    if rows_and_columns:\n",
    "        print('Number of rows:', len(dataset))\n",
    "        print('Number of columns:', len(dataset[0]))\n"
   ]
  },
  {
   "cell_type": "code",
   "execution_count": 2,
   "metadata": {},
   "outputs": [
    {
     "name": "stdout",
     "output_type": "stream",
     "text": [
      "['Life Made WI-Fi Touchscreen Photo Frame', '1.9', '19', '3.0M', '1,000+', 'Free', '0', 'Everyone', '', 'February 11, 2018', '1.0.19', '4.0 and up']\n",
      "\n",
      "\n",
      "Number of rows: 10841\n",
      "Number of columns: 13\n"
     ]
    }
   ],
   "source": [
    "# open data\n",
    "apple_data = open_dataset(\"AppleStore.csv\")\n",
    "google_data = open_dataset(\"googleplaystore.csv\")\n",
    "\n",
    "# explore data\n",
    "#explore_apple_data = explore_data(apple_data[1:],0, 4, True )\n",
    "explore_google_data = explore_data(google_data[1:],10472, 10473, True )"
   ]
  },
  {
   "cell_type": "code",
   "execution_count": 3,
   "metadata": {},
   "outputs": [
    {
     "name": "stdout",
     "output_type": "stream",
     "text": [
      "['osmino Wi-Fi: free WiFi', 'TOOLS', '4.2', '134203', '4.1M', '10,000,000+', 'Free', '0', 'Everyone', 'Tools', 'August 7, 2018', '6.06.14', '4.4 and up']\n",
      "\n",
      "\n",
      "Number of rows: 10840\n",
      "Number of columns: 13\n"
     ]
    }
   ],
   "source": [
    "del google_data[10472]\n",
    "explore_google_data = explore_data(google_data[1:],10472, 10473, True )"
   ]
  }
 ],
 "metadata": {
  "kernelspec": {
   "display_name": "Python 3",
   "language": "python",
   "name": "python3"
  },
  "language_info": {
   "codemirror_mode": {
    "name": "ipython",
    "version": 3
   },
   "file_extension": ".py",
   "mimetype": "text/x-python",
   "name": "python",
   "nbconvert_exporter": "python",
   "pygments_lexer": "ipython3",
   "version": "3.12.3"
  }
 },
 "nbformat": 4,
 "nbformat_minor": 2
}
